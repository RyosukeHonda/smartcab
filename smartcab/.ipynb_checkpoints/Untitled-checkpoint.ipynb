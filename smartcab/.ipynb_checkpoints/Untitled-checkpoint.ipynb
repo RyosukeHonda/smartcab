{
 "cells": [
  {
   "cell_type": "code",
   "execution_count": 1,
   "metadata": {
    "collapsed": false
   },
   "outputs": [],
   "source": [
    "import pygame"
   ]
  },
  {
   "cell_type": "code",
   "execution_count": 2,
   "metadata": {
    "collapsed": true
   },
   "outputs": [],
   "source": [
    "import random"
   ]
  },
  {
   "cell_type": "code",
   "execution_count": 5,
   "metadata": {
    "collapsed": false
   },
   "outputs": [],
   "source": []
  },
  {
   "cell_type": "code",
   "execution_count": 43,
   "metadata": {
    "collapsed": false
   },
   "outputs": [
    {
     "name": "stdout",
     "output_type": "stream",
     "text": [
      "30.02055\n"
     ]
    }
   ],
   "source": [
    "count_large=0\n",
    "count_small=0\n",
    "count_total=0\n",
    "for _ in range(10000000):\n",
    "    count_total+=1\n",
    "    a=random.random()\n",
    "    e=0.3\n",
    "    if a<e:\n",
    "        count_small+=1\n",
    "    else:\n",
    "        count_large+=1\n",
    "print 100.0*count_small/count_total"
   ]
  },
  {
   "cell_type": "code",
   "execution_count": 58,
   "metadata": {
    "collapsed": false
   },
   "outputs": [],
   "source": [
    "a={}\n",
    "mat=(light,point,left,right)\n",
    "light=[\"red\",\"green\"]\n",
    "point=[\"None\",\"Forward\",\"Right\",\"left\"]\n",
    "left=[\"None\",\"Forward\",\"Right\",\"left\"]\n",
    "right=[\"None\",\"Forward\",\"Right\",\"left\"]\n",
    "for b in light:\n",
    "    for c in point:\n",
    "        for d in left:\n",
    "            for e in right:\n",
    "                a[(b,c,d,e)]={None: 0, 'Forward': 0, 'left': 0, 'Right': 0}"
   ]
  },
  {
   "cell_type": "code",
   "execution_count": 64,
   "metadata": {
    "collapsed": false
   },
   "outputs": [
    {
     "data": {
      "text/plain": [
       "{None: 0, 'Forward': 0, 'Right': 0, 'left': 0}"
      ]
     },
     "execution_count": 64,
     "metadata": {},
     "output_type": "execute_result"
    }
   ],
   "source": [
    "a[(\"green\",\"None\",\"None\",\"None\")]"
   ]
  },
  {
   "cell_type": "code",
   "execution_count": 55,
   "metadata": {
    "collapsed": false
   },
   "outputs": [
    {
     "name": "stdout",
     "output_type": "stream",
     "text": [
      "<built-in method get of dict object at 0x104184b40>\n"
     ]
    }
   ],
   "source": [
    "print a.get"
   ]
  },
  {
   "cell_type": "code",
   "execution_count": null,
   "metadata": {
    "collapsed": true
   },
   "outputs": [],
   "source": []
  }
 ],
 "metadata": {
  "kernelspec": {
   "display_name": "Python 2",
   "language": "python",
   "name": "python2"
  },
  "language_info": {
   "codemirror_mode": {
    "name": "ipython",
    "version": 2
   },
   "file_extension": ".py",
   "mimetype": "text/x-python",
   "name": "python",
   "nbconvert_exporter": "python",
   "pygments_lexer": "ipython2",
   "version": "2.7.11"
  }
 },
 "nbformat": 4,
 "nbformat_minor": 0
}
